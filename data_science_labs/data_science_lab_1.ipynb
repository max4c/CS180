{
 "cells": [
  {
   "cell_type": "markdown",
   "metadata": {
    "id": "IPir_6bCCFnZ"
   },
   "source": [
    "<a href=\"https://colab.research.google.com/github/rhodes-byu/CS180/blob/main/data_science_labs/data_science_lab_1.ipynb\" target=\"_parent\"><img src=\"https://colab.research.google.com/assets/colab-badge.svg\" alt=\"Open In Colab\"/></a><p><b>After clicking the \"Open in Colab\" link, copy the notebook to your own Google Drive before getting started, or it will not save your work</b></p>"
   ]
  },
  {
   "cell_type": "markdown",
   "metadata": {
    "id": "_slaQdUGCB0t"
   },
   "source": [
    "# BYU CS 180 Lab 1"
   ]
  },
  {
   "cell_type": "markdown",
   "metadata": {
    "id": "ct7fnkcnCL8O"
   },
   "source": [
    "## Introduction:\n",
    "Welcome to your data science lab. In this assignment we will start learning the basics of Python. \n",
    "\n",
    "Python is a general-purpose programming language that empowers developers to use several different programming styles (i.e., functional, object-oriented, reflective, etc.) when creating programs. Several popular digital tools and platforms were developed with Python, including YouTube, Google Search and iRobot machines [1].\n",
    "\n",
    "According to HackerRank, it is the second most in demand language among hiring managers [2].\n",
    "\n",
    "You can use Python to many, many things. In industry, its mainly used for:\n",
    "\n",
    "* Back end development\n",
    "* Data science\n",
    "* App development\n",
    "\n"
   ]
  },
  {
   "cell_type": "markdown",
   "metadata": {
    "id": "PUat5xRAcdrC"
   },
   "source": [
    "## Exercise 1: The Iris Dataset (10 points)\n",
    "The iris dataset is a simple, but very famous, dataset introduced to the world by RA Fisher (the “father” of modern statistics”) in 1939. The dataset has five columns:\n",
    "* sepal length (cm)\n",
    "* sepal width (cm)\n",
    "* petal length (cm)\n",
    "* petal width (cm)\n",
    "* class\n",
    "\n",
    "Your task is to write the iris data to a  .csv (comma separated values format).  Write a function that takes as input the raw data as a string and  the list of headers, and writes a .csv file. See the starter code below load the raw data into memory "
   ]
  },
  {
   "cell_type": "code",
   "execution_count": null,
   "metadata": {
    "id": "j1m2KIHShNdC"
   },
   "outputs": [],
   "source": [
    "import requests\n",
    "dta = requests.get(\"https://archive.ics.uci.edu/ml/machine-learning-databases/iris/iris.data\").text\n",
    "headers = ['sepal length (cm)', 'sepal width (cm)', 'petal length (cm)', 'petal width (cm)', 'class']"
   ]
  },
  {
   "cell_type": "code",
   "execution_count": null,
   "metadata": {
    "id": "l5hV6PS0CwT8"
   },
   "outputs": [],
   "source": [
    "def write_csv(dta, headers):\n",
    "    # your code goes here"
   ]
  },
  {
   "cell_type": "code",
   "execution_count": null,
   "metadata": {
    "id": "E3sgOg5oAvCv"
   },
   "outputs": [],
   "source": [
    "write_csv(dta, headers)"
   ]
  },
  {
   "cell_type": "markdown",
   "metadata": {
    "pycharm": {
     "is_executing": true
    }
   },
   "source": [
    "## Exercise 2: Classes (10 points)\n",
    "Write a Car class that takes the follow attributes:\n",
    "* Color\n",
    "* Model\n",
    "* Year\n",
    "* Max speed (Mi/Hr)\n",
    "* Mileage (Mi / Gallon)\n",
    "* Current speed\n",
    "\n",
    "**Implement the following methods**:\n",
    "* accelerate(x): Increase the current speed by x miles per hour\n",
    "* brake(x): Decrease current speed by a constant, x ,miles per hour\n",
    "\n",
    "Write a program that does the following:\n",
    "* Initializes your favorite car\n",
    "* Begin “driving” at 0 mph. Increase the speed by increments of 10 until the maximum speed is reached (but do not exceed the maximum speed).\n",
    "* When max speed is reached brake() and decrease the speed in increments of 10 until the car stops (negative speed is not defined).\n",
    "* In your notebook, print out the speed each time it is changed\n"
   ]
  },
  {
   "cell_type": "code",
   "execution_count": null,
   "metadata": {},
   "outputs": [],
   "source": [
    "# Write your class here:"
   ]
  },
  {
   "cell_type": "code",
   "execution_count": null,
   "metadata": {},
   "outputs": [],
   "source": [
    "# Write the program for initializing the car and iterating through until the max speed is reached."
   ]
  }
 ],
 "metadata": {
  "colab": {
   "provenance": []
  },
  "kernelspec": {
   "display_name": "Python 3 (ipykernel)",
   "language": "python",
   "name": "python3"
  },
  "language_info": {
   "codemirror_mode": {
    "name": "ipython",
    "version": 3
   },
   "file_extension": ".py",
   "mimetype": "text/x-python",
   "name": "python",
   "nbconvert_exporter": "python",
   "pygments_lexer": "ipython3",
   "version": "3.9.13"
  }
 },
 "nbformat": 4,
 "nbformat_minor": 1
}
